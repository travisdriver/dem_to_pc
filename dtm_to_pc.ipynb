{
 "cells": [
  {
   "cell_type": "markdown",
   "metadata": {},
   "source": [
    "# Download DEM as Tiff"
   ]
  },
  {
   "cell_type": "code",
   "execution_count": null,
   "metadata": {},
   "outputs": [],
   "source": [
    "! wget https://sbnarchive.psi.edu/pds3/dawn/fc/DWNCLSPG_2/EXTRAS/DTM/CE_LAMO_L_IKAPATI_EQU_DTM.TIF"
   ]
  },
  {
   "cell_type": "markdown",
   "metadata": {},
   "source": [
    "# Read in metadata and plot heights"
   ]
  },
  {
   "cell_type": "code",
   "execution_count": null,
   "metadata": {},
   "outputs": [],
   "source": [
    "import rasterio\n",
    "import numpy as np\n",
    "import matplotlib.pyplot as plt\n",
    "\n",
    "\n",
    "NODATA_VALUE = -32768\n",
    "DTM_PATH = \"CE_LAMO_L_AHUNAMONS_EQU_DTM.TIF\"\n",
    "\n",
    "src = rasterio.open(DTM_PATH)\n",
    "z_values = np.flipud(src.read(1) * 1.0)\n",
    "print(src.meta)\n",
    "\n",
    "print(f\"Number of points with no data: {np.sum(z_values == NODATA_VALUE)}\")\n",
    "z_values[z_values == NODATA_VALUE] = np.nan\n",
    "#z_values = z_values[1000:-1000, 500:-500]\n",
    "\n",
    "plt.imshow(z_values, cmap=\"gray\")\n",
    "#plt.axis(\"off\")\n",
    "plt.show()"
   ]
  },
  {
   "cell_type": "markdown",
   "metadata": {},
   "source": [
    "## Values for Ceres"
   ]
  },
  {
   "cell_type": "code",
   "execution_count": null,
   "metadata": {},
   "outputs": [],
   "source": [
    "# Define constants for convertion.\n",
    "# Ref: https://sbnarchive.psi.edu/pds3/dawn/fc/DWNCLSPG_2/CATALOG/FC2_CERES_LAMO_DTM_SPG_DS.CAT\n",
    "RADIUS = 470000  # meters\n",
    "SCALING_FACTOR = 1.0\n",
    "LATERAL_SPACING = 32.0431542  # meters\n",
    "#LAT_CENTER, LON_CENTER = -10.0 * np.pi / 180, 315.0 * np.pi / 180  # AHUNA MONS\n",
    "LAT_CENTER, LON_CENTER =  33.0 * np.pi / 180,  43.0 * np.pi / 180  # IKAPATI"
   ]
  },
  {
   "cell_type": "markdown",
   "metadata": {},
   "source": [
    "# Convert to point cloud"
   ]
  },
  {
   "cell_type": "code",
   "execution_count": null,
   "metadata": {},
   "outputs": [],
   "source": [
    "import visu3d as v3d\n",
    "\n",
    "\n",
    "# Get the dimensions of the terrain data.\n",
    "height, width = z_values.shape\n",
    "\n",
    "# Generate x and y grid coordinates and scale by pixel resolution.\n",
    "x_coords, y_coords = np.meshgrid(np.arange(width), np.arange(height))\n",
    "x_coords = x_coords.astype(float) * LATERAL_SPACING\n",
    "y_coords = y_coords.astype(float) * LATERAL_SPACING\n",
    "print(x_coords.max(), y_coords.max())\n",
    "\n",
    "# Compute normalization constants. \n",
    "c_x = np.pi * RADIUS\n",
    "c_y = np.pi * RADIUS / 2\n",
    "\n",
    "# Center and normalize coordinates.\n",
    "x_normalized = (x_coords - x_coords.max() / 2) / c_x\n",
    "y_normalized = (y_coords - y_coords.max() / 2) / c_y\n",
    "\n",
    "# Map normalized coordinates to spherical coordinates\n",
    "lon = x_normalized * np.pi + LON_CENTER  # longitude in radians from -π to π\n",
    "lat = y_normalized * np.pi / 2 + LAT_CENTER  # latitude in radians from -π/2 to π/2\n",
    "print(\"Longitude range:\", np.rad2deg(np.nanmin(lon)), np.rad2deg(np.nanmax(lon)))\n",
    "print(\"Latitude range:\", np.rad2deg(np.nanmin(lat)), np.rad2deg(np.nanmax(lat)))\n",
    "\n",
    "# Convert spherical coordinates to Cartesian coordinates\n",
    "radii = z_values * SCALING_FACTOR + RADIUS\n",
    "x_sphere = radii * np.cos(lat) * np.cos(lon) / 1000\n",
    "y_sphere = radii * np.cos(lat) * np.sin(lon) / 1000\n",
    "z_sphere = radii * np.sin(lat) / 1000\n",
    "\n",
    "print(np.nanmax(x_sphere) - np.nanmin(x_sphere))\n",
    "print(np.nanmax(y_sphere) - np.nanmin(y_sphere))\n",
    "print(np.nanmax(z_sphere) - np.nanmin(z_sphere))\n",
    "\n",
    "# Combine x, y, and z coordinates into a single array of 3D coordinates\n",
    "vertices = np.vstack((x_sphere.flatten(), y_sphere.flatten(), z_sphere.flatten())).T\n",
    "\n",
    "# Plot scene.\n",
    "pc = v3d.Point3d(p=vertices)\n",
    "v3d.make_fig([pc])"
   ]
  },
  {
   "cell_type": "code",
   "execution_count": null,
   "metadata": {},
   "outputs": [],
   "source": [
    "# Generate triangular faces\n",
    "\n",
    "faces = []\n",
    "for i in range(height - 1):\n",
    "    print(i)\n",
    "    for j in range(width - 1):\n",
    "        # Define indices of the corners of the cell\n",
    "        idx_tl = i * width + j          # Top-left\n",
    "        idx_tr = i * width + j + 1      # Top-right\n",
    "        idx_bl = (i + 1) * width + j    # Bottom-left\n",
    "        idx_br = (i + 1) * width + j + 1 # Bottom-right\n",
    "        \n",
    "        # Add two triangles for the cell\n",
    "        faces.append([idx_tl, idx_tr, idx_bl])  # Triangle 1\n",
    "        faces.append([idx_tr, idx_br, idx_bl])  # Triangle 2\n",
    "faces = np.asarray(faces)"
   ]
  },
  {
   "cell_type": "code",
   "execution_count": null,
   "metadata": {},
   "outputs": [],
   "source": [
    "import open3d as o3d\n",
    "\n",
    "# Create an Open3D TriangleMesh\n",
    "mesh = o3d.geometry.TriangleMesh()\n",
    "mesh.vertices = o3d.utility.Vector3dVector(vertices)\n",
    "mesh.triangles = o3d.utility.Vector3iVector(faces)\n",
    "\n",
    "# Compute normals for better visualization\n",
    "mesh.compute_vertex_normals()\n",
    "\n",
    "\n",
    "o3d.io.write_triangle_mesh(DTM_PATH.replace(\"_EQU_DTM\", \"_MESH\").replace(\".TIF\", \".ply\"), mesh, write_ascii=False)"
   ]
  },
  {
   "cell_type": "markdown",
   "metadata": {},
   "source": [
    "# Save pointcloud as PLY"
   ]
  },
  {
   "cell_type": "code",
   "execution_count": null,
   "metadata": {},
   "outputs": [],
   "source": [
    "import open3d as o3d\n",
    "\n",
    "valid_ind = ~np.isnan(z_sphere.flatten())\n",
    "pc = o3d.geometry.PointCloud()\n",
    "pc.points = o3d.utility.Vector3dVector(vertices[valid_ind])\n",
    "\n",
    "o3d.io.write_point_cloud(DTM_PATH.replace(\"_EQU_DTM\", \"_PC\").replace(\".TIF\", \".ply\"), pc, write_ascii=False)"
   ]
  }
 ],
 "metadata": {
  "kernelspec": {
   "display_name": "Python 3.8.5 ('base')",
   "language": "python",
   "name": "python3"
  },
  "language_info": {
   "codemirror_mode": {
    "name": "ipython",
    "version": 3
   },
   "file_extension": ".py",
   "mimetype": "text/x-python",
   "name": "python",
   "nbconvert_exporter": "python",
   "pygments_lexer": "ipython3",
   "version": "3.8.5"
  },
  "vscode": {
   "interpreter": {
    "hash": "4b55329ab73ac417e0307c8fb8949c4e843a505cb273ae2570f1b698bfc6f1f8"
   }
  }
 },
 "nbformat": 4,
 "nbformat_minor": 2
}
